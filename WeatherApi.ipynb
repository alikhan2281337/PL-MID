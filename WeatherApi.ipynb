{
  "nbformat": 4,
  "nbformat_minor": 0,
  "metadata": {
    "colab": {
      "provenance": [],
      "authorship_tag": "ABX9TyPBOvd037gH92bYM+E2ehkt",
      "include_colab_link": true
    },
    "kernelspec": {
      "name": "python3",
      "display_name": "Python 3"
    },
    "language_info": {
      "name": "python"
    }
  },
  "cells": [
    {
      "cell_type": "markdown",
      "metadata": {
        "id": "view-in-github",
        "colab_type": "text"
      },
      "source": [
        "<a href=\"https://colab.research.google.com/github/alikhan2281337/BMW-The-International/blob/main/WeatherApi.ipynb\" target=\"_parent\"><img src=\"https://colab.research.google.com/assets/colab-badge.svg\" alt=\"Open In Colab\"/></a>"
      ]
    },
    {
      "cell_type": "code",
      "execution_count": 3,
      "metadata": {
        "colab": {
          "base_uri": "https://localhost:8080/"
        },
        "id": "I4DxVEGD8NZ6",
        "outputId": "2870ab00-4d1f-40eb-a5e5-47e9ba02546f"
      },
      "outputs": [
        {
          "output_type": "stream",
          "name": "stdout",
          "text": [
            "✅ Получено 1501 дней данных (из 200 запрошенных)\n",
            "         Дата  Макс. температура (°C)  Мин. температура (°C)  \\\n",
            "0  2021-01-18                    13.2                   -0.5   \n",
            "1  2021-01-19                    12.5                    1.9   \n",
            "2  2021-01-20                     8.3                    1.8   \n",
            "3  2021-01-21                    14.3                    0.4   \n",
            "4  2021-01-22                     4.4                   -8.0   \n",
            "5  2021-01-23                    -6.7                  -13.4   \n",
            "6  2021-01-24                    -2.7                   -7.6   \n",
            "7  2021-01-25                    -3.7                   -7.3   \n",
            "8  2021-01-26                    -2.8                   -8.4   \n",
            "9  2021-01-27                    -1.8                   -6.8   \n",
            "\n",
            "   Макс. скорость ветра (км/ч)  \n",
            "0                         11.2  \n",
            "1                         18.4  \n",
            "2                         17.6  \n",
            "3                         14.2  \n",
            "4                         35.8  \n",
            "5                         11.3  \n",
            "6                          7.1  \n",
            "7                          5.5  \n",
            "8                          6.2  \n",
            "9                         10.1  \n",
            "✅ Данные сохранены в 'bishkek_weather_200_days.csv'!\n"
          ]
        }
      ],
      "source": [
        "import requests\n",
        "import pandas as pd\n",
        "from datetime import datetime, timedelta\n",
        "\n",
        "# Координаты города Бишкек\n",
        "latitude = 42.8746\n",
        "longitude = 74.5698\n",
        "\n",
        "# Количество дней назад\n",
        "days_back = 1500\n",
        "\n",
        "# Определяем даты (200 дней назад)\n",
        "end_date = datetime.now().date()  # Сегодняшняя дата\n",
        "start_date = end_date - timedelta(days=days_back)  # 200 дней назад\n",
        "\n",
        "# Формируем URL для Open-Meteo (архив данных)\n",
        "url = (\n",
        "    f\"https://archive-api.open-meteo.com/v1/archive?\"\n",
        "    f\"latitude={latitude}&longitude={longitude}\"\n",
        "    f\"&start_date={start_date}&end_date={end_date}\"\n",
        "    f\"&daily=temperature_2m_max,temperature_2m_min,wind_speed_10m_max\"\n",
        "    f\"&timezone=Asia/Bishkek\"\n",
        ")\n",
        "\n",
        "# Запрос к API\n",
        "response = requests.get(url)\n",
        "\n",
        "# Проверяем успешность запроса\n",
        "if response.status_code == 200:\n",
        "    data = response.json()\n",
        "\n",
        "    # Проверяем, есть ли данные\n",
        "    if \"daily\" in data:\n",
        "        dates = data[\"daily\"][\"time\"]\n",
        "        temp_max = data[\"daily\"][\"temperature_2m_max\"]\n",
        "        temp_min = data[\"daily\"][\"temperature_2m_min\"]\n",
        "        wind_speed = data[\"daily\"][\"wind_speed_10m_max\"]\n",
        "\n",
        "        # Создаём DataFrame\n",
        "        df = pd.DataFrame({\n",
        "            \"Дата\": dates,\n",
        "            \"Макс. температура (°C)\": temp_max,\n",
        "            \"Мин. температура (°C)\": temp_min,\n",
        "            \"Макс. скорость ветра (км/ч)\": wind_speed\n",
        "        })\n",
        "\n",
        "        # Выводим результат\n",
        "        print(f\"✅ Получено {len(df)} дней данных (из 200 запрошенных)\")\n",
        "        print(df.head(10))  # Показываем первые 10 строк\n",
        "\n",
        "        # Сохраняем в CSV\n",
        "        df.to_csv(\"bishkek_weather_200_days.csv\", index=False)\n",
        "        print(\"✅ Данные сохранены в 'bishkek_weather_200_days.csv'!\")\n",
        "    else:\n",
        "        print(\"❌ Данные недоступны. Возможно, для этой даты их нет.\")\n",
        "else:\n",
        "    print(\"❌ Ошибка при получении данных! Код ошибки:\", response.status_code)\n"
      ]
    }
  ]
}